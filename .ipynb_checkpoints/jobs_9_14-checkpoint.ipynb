{
 "cells": [
  {
   "cell_type": "code",
   "execution_count": null,
   "id": "65d7685b",
   "metadata": {},
   "outputs": [],
   "source": [
    "import pandas as pd\n",
    "import time\n",
    "from selenium import webdriver\n",
    "from selenium.webdriver.common.by import By\n",
    "from selenium.webdriver.support.ui import WebDriverWait\n",
    "from selenium.webdriver.support import expected_conditions as EC\n",
    "from selenium.webdriver.support.ui import Select\n",
    "from webdriver_manager.chrome import ChromeDriverManager"
   ]
  },
  {
   "cell_type": "code",
   "execution_count": null,
   "id": "562c71a5",
   "metadata": {},
   "outputs": [],
   "source": [
    "driver = webdriver.Chrome(ChromeDriverManager(version='114.0.5735.90').install())"
   ]
  },
  {
   "cell_type": "code",
   "execution_count": null,
   "id": "a5319ed6",
   "metadata": {},
   "outputs": [],
   "source": [
    "driver.get('https://knoxschools.munisselfservice.com/employmentopportunities/default.aspx')"
   ]
  },
  {
   "cell_type": "code",
   "execution_count": null,
   "id": "a6172278",
   "metadata": {},
   "outputs": [],
   "source": [
    "driver.find_element(By.XPATH, '//*[@id=\"ctl00_ctl00_PrimaryPlaceHolder_ContentPlaceHolderMain_RowsPerPageDropDownListTop\"]').click()"
   ]
  },
  {
   "cell_type": "code",
   "execution_count": null,
   "id": "86d837ea",
   "metadata": {},
   "outputs": [],
   "source": [
    "driver.find_element(By.XPATH, '//*[@id=\"ctl00_ctl00_PrimaryPlaceHolder_ContentPlaceHolderMain_RowsPerPageDropDownListTop\"]/option[6]').click()"
   ]
  },
  {
   "cell_type": "code",
   "execution_count": null,
   "id": "c47e007f",
   "metadata": {},
   "outputs": [],
   "source": [
    "all_data = driver.find_elements(By.CLASS_NAME, 'aligntop')"
   ]
  },
  {
   "cell_type": "code",
   "execution_count": null,
   "id": "1e03b9ae",
   "metadata": {},
   "outputs": [],
   "source": [
    "# all_data.text"
   ]
  },
  {
   "cell_type": "code",
   "execution_count": null,
   "id": "a3d0d1cd",
   "metadata": {},
   "outputs": [],
   "source": [
    "# for each_block in all_data:\n",
    "#     print(each_block.text)"
   ]
  },
  {
   "cell_type": "code",
   "execution_count": null,
   "id": "d7ff74c0",
   "metadata": {},
   "outputs": [],
   "source": [
    "for each_job in all_data[:5]:\n",
    "    each_element = each_job.find_elements(By.TAG_NAME, \"p\")\n",
    "    for count, element in enumerate(each_element):\n",
    "        print(count, element.text)\n",
    "    print(\"--\")"
   ]
  },
  {
   "cell_type": "code",
   "execution_count": null,
   "id": "df21f088",
   "metadata": {
    "scrolled": true
   },
   "outputs": [],
   "source": [
    "def extract_key_value_pairs(text):\n",
    "    # Initialize an empty dictionary to store the key-value pairs\n",
    "    extracted_data = {}\n",
    "\n",
    "    # Split the data into lines and iterate through each line\n",
    "    lines = text.strip().split(\"\\n\")\n",
    "    title_line = lines[0].strip()\n",
    "    if len(title_line) != 0:\n",
    "        extracted_data[\"title\"] = title_line\n",
    "    for line in lines[1:]:\n",
    "        # Check if the line contains a key-value pair\n",
    "        if \":\" in line:\n",
    "            key, value = line.split(\":\", 1)\n",
    "            extracted_data[key.strip()] = value.strip()\n",
    "        else:\n",
    "            # Stop extracting data when we reach the line with \"APPLY\"\n",
    "            if line.strip() == \"APPLY\":\n",
    "                break\n",
    "\n",
    "    return extracted_data\n",
    "\n",
    "all_results = []\n",
    "for each_job in all_data:\n",
    "    each_element = each_job.text\n",
    "    result = extract_key_value_pairs(each_element)\n",
    "    if result:\n",
    "        all_results.append(result)\n",
    "print(all_results)"
   ]
  },
  {
   "cell_type": "code",
   "execution_count": null,
   "id": "55985177",
   "metadata": {},
   "outputs": [],
   "source": [
    "import pandas as pd"
   ]
  },
  {
   "cell_type": "code",
   "execution_count": null,
   "id": "69ac31d9",
   "metadata": {},
   "outputs": [],
   "source": [
    "#  if len(all_data) < 5:\n",
    "#         print(\"insufficient data\")\n",
    "#         continue\n",
    "#     else:"
   ]
  },
  {
   "cell_type": "code",
   "execution_count": null,
   "id": "19d8b898",
   "metadata": {},
   "outputs": [],
   "source": [
    "df = pd.DataFrame(all_results)"
   ]
  },
  {
   "cell_type": "code",
   "execution_count": null,
   "id": "1350bb40",
   "metadata": {},
   "outputs": [],
   "source": [
    "df"
   ]
  },
  {
   "cell_type": "code",
   "execution_count": null,
   "id": "6df4ec83",
   "metadata": {},
   "outputs": [],
   "source": [
    "df.to_csv('jobs_KCS_Aug29.csv')"
   ]
  },
  {
   "cell_type": "code",
   "execution_count": null,
   "id": "2f5e97d5",
   "metadata": {},
   "outputs": [],
   "source": [
    "# df.dropna()\n",
    "# df = df.reset_index(drop=True)"
   ]
  },
  {
   "cell_type": "code",
   "execution_count": null,
   "id": "3b75885e",
   "metadata": {},
   "outputs": [],
   "source": [
    "df.head(10)"
   ]
  },
  {
   "cell_type": "code",
   "execution_count": null,
   "id": "cf2fe9e8",
   "metadata": {},
   "outputs": [],
   "source": []
  }
 ],
 "metadata": {
  "kernelspec": {
   "display_name": "Python 3 (ipykernel)",
   "language": "python",
   "name": "python3"
  },
  "language_info": {
   "codemirror_mode": {
    "name": "ipython",
    "version": 3
   },
   "file_extension": ".py",
   "mimetype": "text/x-python",
   "name": "python",
   "nbconvert_exporter": "python",
   "pygments_lexer": "ipython3",
   "version": "3.10.0"
  }
 },
 "nbformat": 4,
 "nbformat_minor": 5
}
